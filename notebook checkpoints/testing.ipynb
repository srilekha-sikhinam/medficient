{
 "cells": [
  {
   "cell_type": "markdown",
   "metadata": {},
   "source": [
    "This notebook is for testing out different ways to build a linear regression model for predicting length of stay from the NY State Hospital Discharge dataset. The steps are as following:<br />\n",
    "<ol>\n",
    "<b>1.)</b> Build the linear regression model with default parameters, trained on entire population, with basic label encoding for categorical variables<br />\n",
    "<b>2.)</b> Build the linear regression model with default parameters, trained on subpopulation (population with heart failure), with basic label encoding for categorical variables<br />\n",
    "<b>3.)</b> Build the linear regression model with default parameters, trained on subpopulation (population with heart failure), with OneHotEncoding for categorical variables<br />\n",
    "<b>4.)</b> Try different models\n",
    "</ol>"
   ]
  },
  {
   "cell_type": "code",
   "execution_count": 52,
   "metadata": {},
   "outputs": [],
   "source": [
    "#Import statements for entire notebook\n",
    "import pandas as pd\n",
    "import numpy as np\n",
    "from sklearn import preprocessing, svm\n",
    "from sklearn.model_selection import train_test_split\n",
    "import sklearn.metrics as metrics\n",
    "import matplotlib.pyplot as plt\n",
    "import prince\n",
    "import numpy as np\n",
    "from sklearn.linear_model import LinearRegression\n",
    "from sklearn.compose import TransformedTargetRegressor\n",
    "from sklearn.preprocessing import MinMaxScaler\n",
    "from sklearn.ensemble import RandomForestRegressor\n",
    "from sklearn.feature_selection import RFE\n",
    "from sklearn.tree import DecisionTreeRegressor"
   ]
  },
  {
   "cell_type": "code",
   "execution_count": 53,
   "metadata": {},
   "outputs": [],
   "source": [
    "#Run ingension and cleaning files\n",
    "#! python data/data_ingestion.py"
   ]
  },
  {
   "cell_type": "code",
   "execution_count": 54,
   "metadata": {},
   "outputs": [],
   "source": [
    "#Run ingension and cleaning files\n",
    "#! python data/data_cleaning.py"
   ]
  },
  {
   "cell_type": "code",
   "execution_count": 55,
   "metadata": {},
   "outputs": [
    {
     "name": "stderr",
     "output_type": "stream",
     "text": [
      "C:\\Users\\Urvi\\AppData\\Roaming\\Python\\Python39\\site-packages\\IPython\\core\\interactiveshell.py:3165: DtypeWarning: Columns (15,17) have mixed types.Specify dtype option on import or set low_memory=False.\n",
      "  has_raised = await self.run_ast_nodes(code_ast.body, cell_name,\n"
     ]
    }
   ],
   "source": [
    "#Load in the data\n",
    "df = pd.read_csv('data\\Hospital_Inpatient_Discharges_17_18_cleaned.csv')\n",
    "df.head()\n",
    "\n",
    "#Create dataframe to hold scores at each step\n",
    "evaluation_df = pd.DataFrame(columns=['Model', 'Features', 'Population', 'Target Variable Normalized', 'Encoding Type', 'R2', 'MSE', 'MAE'])"
   ]
  },
  {
   "cell_type": "code",
   "execution_count": 56,
   "metadata": {},
   "outputs": [],
   "source": [
    "#Helper functions\n",
    "def encode_categorical_variables(df_to_encode):\n",
    "    encoded_df = df_to_encode\n",
    "    categorical_columns = df_to_encode.select_dtypes(exclude='number')\n",
    "    for column in categorical_columns:\n",
    "        values = df_to_encode[column].unique()\n",
    "        encoded_values = [i for i in range(1, len(values) + 1)]\n",
    "        encoded_df[column].replace(values, encoded_values, inplace=True)\n",
    "    return encoded_df\n",
    "\n",
    "def get_scores(y_pred, y_true):\n",
    "    mae = metrics.mean_absolute_error(y_true, y_pred)\n",
    "    mse = metrics.mean_squared_error(y_true, y_pred)\n",
    "    r2 = metrics.r2_score(y_true, y_pred)\n",
    "    return [r2, mse, mae]\n"
   ]
  },
  {
   "cell_type": "markdown",
   "metadata": {},
   "source": [
    "Step 1: Building default model with all features and label encoding for categorical variables, trained on entire population in dataset"
   ]
  },
  {
   "cell_type": "code",
   "execution_count": 57,
   "metadata": {},
   "outputs": [
    {
     "data": {
      "text/html": [
       "<div>\n",
       "<style scoped>\n",
       "    .dataframe tbody tr th:only-of-type {\n",
       "        vertical-align: middle;\n",
       "    }\n",
       "\n",
       "    .dataframe tbody tr th {\n",
       "        vertical-align: top;\n",
       "    }\n",
       "\n",
       "    .dataframe thead th {\n",
       "        text-align: right;\n",
       "    }\n",
       "</style>\n",
       "<table border=\"1\" class=\"dataframe\">\n",
       "  <thead>\n",
       "    <tr style=\"text-align: right;\">\n",
       "      <th></th>\n",
       "      <th>Model</th>\n",
       "      <th>Features</th>\n",
       "      <th>Population</th>\n",
       "      <th>Target Variable Normalized</th>\n",
       "      <th>Encoding Type</th>\n",
       "      <th>R2</th>\n",
       "      <th>MSE</th>\n",
       "      <th>MAE</th>\n",
       "    </tr>\n",
       "  </thead>\n",
       "  <tbody>\n",
       "    <tr>\n",
       "      <th>0</th>\n",
       "      <td>Linear Regression</td>\n",
       "      <td>All Features</td>\n",
       "      <td>All</td>\n",
       "      <td>No</td>\n",
       "      <td>Label Encoding</td>\n",
       "      <td>0.137862</td>\n",
       "      <td>45.465472</td>\n",
       "      <td>3.557802</td>\n",
       "    </tr>\n",
       "  </tbody>\n",
       "</table>\n",
       "</div>"
      ],
      "text/plain": [
       "               Model      Features Population Target Variable Normalized  \\\n",
       "0  Linear Regression  All Features        All                         No   \n",
       "\n",
       "    Encoding Type        R2        MSE       MAE  \n",
       "0  Label Encoding  0.137862  45.465472  3.557802  "
      ]
     },
     "execution_count": 57,
     "metadata": {},
     "output_type": "execute_result"
    }
   ],
   "source": [
    "#Reduce sample for training\n",
    "sample_df = df.sample(2000000)\n",
    "\n",
    "#Fill na with most common values\n",
    "sample_df = sample_df.fillna(sample_df.mode().iloc[0])\n",
    "\n",
    "X = sample_df.loc[:, ~sample_df.columns.isin(['Length of Stay', 'Total Costs', 'Total Charges'])]\n",
    "y = sample_df[['Length of Stay']]\n",
    "\n",
    "X_train_all_features, X_test_all_features, y_train_all_features, y_test_all_features = train_test_split(X, y, test_size = 0.25)\n",
    "\n",
    "X_train_all_features = encode_categorical_variables(X_train_all_features)\n",
    "X_test_all_features = encode_categorical_variables(X_test_all_features)\n",
    "\n",
    "lr = LinearRegression()\n",
    "lr.fit(X_train_all_features, y_train_all_features)\n",
    "preds = lr.predict(X_test_all_features)\n",
    "\n",
    "scores = get_scores(preds, y_test_all_features)\n",
    "evaluation_df = evaluation_df.append({'Model': 'Linear Regression', 'Features': 'All Features', 'Population': 'All', 'Target Variable Normalized': 'No', 'Encoding Type': 'Label Encoding', 'R2':scores[0], 'MSE':scores[1], 'MAE': scores[2]}, ignore_index=True)\n",
    "evaluation_df.head()"
   ]
  },
  {
   "cell_type": "markdown",
   "metadata": {},
   "source": [
    "Step 2: Try to improve the model by only training and predicting for a subgroup of the population. In this case, any patients who have heart failure when they get to the hospital"
   ]
  },
  {
   "cell_type": "code",
   "execution_count": 58,
   "metadata": {},
   "outputs": [
    {
     "data": {
      "text/html": [
       "<div>\n",
       "<style scoped>\n",
       "    .dataframe tbody tr th:only-of-type {\n",
       "        vertical-align: middle;\n",
       "    }\n",
       "\n",
       "    .dataframe tbody tr th {\n",
       "        vertical-align: top;\n",
       "    }\n",
       "\n",
       "    .dataframe thead th {\n",
       "        text-align: right;\n",
       "    }\n",
       "</style>\n",
       "<table border=\"1\" class=\"dataframe\">\n",
       "  <thead>\n",
       "    <tr style=\"text-align: right;\">\n",
       "      <th></th>\n",
       "      <th>Model</th>\n",
       "      <th>Features</th>\n",
       "      <th>Population</th>\n",
       "      <th>Target Variable Normalized</th>\n",
       "      <th>Encoding Type</th>\n",
       "      <th>R2</th>\n",
       "      <th>MSE</th>\n",
       "      <th>MAE</th>\n",
       "    </tr>\n",
       "  </thead>\n",
       "  <tbody>\n",
       "    <tr>\n",
       "      <th>0</th>\n",
       "      <td>Linear Regression</td>\n",
       "      <td>All Features</td>\n",
       "      <td>All</td>\n",
       "      <td>No</td>\n",
       "      <td>Label Encoding</td>\n",
       "      <td>0.137862</td>\n",
       "      <td>45.465472</td>\n",
       "      <td>3.557802</td>\n",
       "    </tr>\n",
       "    <tr>\n",
       "      <th>1</th>\n",
       "      <td>Linear Regression</td>\n",
       "      <td>Subgroup - Patients w/Heart Failure</td>\n",
       "      <td>All</td>\n",
       "      <td>No</td>\n",
       "      <td>Label Encoding</td>\n",
       "      <td>0.244538</td>\n",
       "      <td>28.799774</td>\n",
       "      <td>3.395329</td>\n",
       "    </tr>\n",
       "  </tbody>\n",
       "</table>\n",
       "</div>"
      ],
      "text/plain": [
       "               Model                             Features Population  \\\n",
       "0  Linear Regression                         All Features        All   \n",
       "1  Linear Regression  Subgroup - Patients w/Heart Failure        All   \n",
       "\n",
       "  Target Variable Normalized   Encoding Type        R2        MSE       MAE  \n",
       "0                         No  Label Encoding  0.137862  45.465472  3.557802  \n",
       "1                         No  Label Encoding  0.244538  28.799774  3.395329  "
      ]
     },
     "execution_count": 58,
     "metadata": {},
     "output_type": "execute_result"
    }
   ],
   "source": [
    "sample_df_heart_failure = sample_df[(sample_df['APR DRG Description'].str.startswith('Heart')) | (sample_df['APR DRG Code'] == 194)]\n",
    "\n",
    "X = sample_df_heart_failure.loc[:, ~sample_df.columns.isin(['Length of Stay', 'Total Costs', 'Total Charges'])]\n",
    "y = sample_df_heart_failure[['Length of Stay']]\n",
    "\n",
    "X_train_all_features, X_test_all_features, y_train_all_features, y_test_all_features = train_test_split(X, y, test_size = 0.25)\n",
    "\n",
    "X_train_all_features = encode_categorical_variables(X_train_all_features)\n",
    "X_test_all_features = encode_categorical_variables(X_test_all_features)\n",
    "\n",
    "lr = LinearRegression()\n",
    "lr.fit(X_train_all_features, y_train_all_features)\n",
    "preds = lr.predict(X_test_all_features)\n",
    "\n",
    "scores = get_scores(preds, y_test_all_features)\n",
    "evaluation_df = evaluation_df.append({'Model': 'Linear Regression', 'Features': 'All Features', 'Population': 'Subgroup - Patients w/Heart Failure', 'Target Variable Normalized': 'No', 'Encoding Type': 'Label Encoding', 'R2':scores[0], 'MSE':scores[1], 'MAE': scores[2]}, ignore_index=True)\n",
    "evaluation_df.head()"
   ]
  },
  {
   "cell_type": "markdown",
   "metadata": {},
   "source": [
    "Step 3: Building a model just for a subpopulation (patients with heart failure) improved the R2, MSE, and MAE scores. To try to improve the scores further, the next step is to try the model with a normalized target variable"
   ]
  },
  {
   "cell_type": "code",
   "execution_count": 59,
   "metadata": {},
   "outputs": [
    {
     "data": {
      "text/html": [
       "<div>\n",
       "<style scoped>\n",
       "    .dataframe tbody tr th:only-of-type {\n",
       "        vertical-align: middle;\n",
       "    }\n",
       "\n",
       "    .dataframe tbody tr th {\n",
       "        vertical-align: top;\n",
       "    }\n",
       "\n",
       "    .dataframe thead th {\n",
       "        text-align: right;\n",
       "    }\n",
       "</style>\n",
       "<table border=\"1\" class=\"dataframe\">\n",
       "  <thead>\n",
       "    <tr style=\"text-align: right;\">\n",
       "      <th></th>\n",
       "      <th>Model</th>\n",
       "      <th>Features</th>\n",
       "      <th>Population</th>\n",
       "      <th>Target Variable Normalized</th>\n",
       "      <th>Encoding Type</th>\n",
       "      <th>R2</th>\n",
       "      <th>MSE</th>\n",
       "      <th>MAE</th>\n",
       "    </tr>\n",
       "  </thead>\n",
       "  <tbody>\n",
       "    <tr>\n",
       "      <th>0</th>\n",
       "      <td>Linear Regression</td>\n",
       "      <td>All Features</td>\n",
       "      <td>All</td>\n",
       "      <td>No</td>\n",
       "      <td>Label Encoding</td>\n",
       "      <td>0.137862</td>\n",
       "      <td>45.465472</td>\n",
       "      <td>3.557802</td>\n",
       "    </tr>\n",
       "    <tr>\n",
       "      <th>1</th>\n",
       "      <td>Linear Regression</td>\n",
       "      <td>Subgroup - Patients w/Heart Failure</td>\n",
       "      <td>All</td>\n",
       "      <td>No</td>\n",
       "      <td>Label Encoding</td>\n",
       "      <td>0.244538</td>\n",
       "      <td>28.799774</td>\n",
       "      <td>3.395329</td>\n",
       "    </tr>\n",
       "    <tr>\n",
       "      <th>2</th>\n",
       "      <td>Linear Regression</td>\n",
       "      <td>All Features</td>\n",
       "      <td>Subgroup - Patients w/Heart Failure</td>\n",
       "      <td>Yes - MinMaxScaler</td>\n",
       "      <td>Label Encoding</td>\n",
       "      <td>0.274588</td>\n",
       "      <td>42.647823</td>\n",
       "      <td>5.652492</td>\n",
       "    </tr>\n",
       "    <tr>\n",
       "      <th>3</th>\n",
       "      <td>Linear Regression</td>\n",
       "      <td>All Features</td>\n",
       "      <td>Subgroup - Patients w/Heart Failure</td>\n",
       "      <td>Yes - Log Transform</td>\n",
       "      <td>Label Encoding</td>\n",
       "      <td>-0.261394</td>\n",
       "      <td>39.072295</td>\n",
       "      <td>3.289621</td>\n",
       "    </tr>\n",
       "  </tbody>\n",
       "</table>\n",
       "</div>"
      ],
      "text/plain": [
       "               Model                             Features  \\\n",
       "0  Linear Regression                         All Features   \n",
       "1  Linear Regression  Subgroup - Patients w/Heart Failure   \n",
       "2  Linear Regression                         All Features   \n",
       "3  Linear Regression                         All Features   \n",
       "\n",
       "                            Population Target Variable Normalized  \\\n",
       "0                                  All                         No   \n",
       "1                                  All                         No   \n",
       "2  Subgroup - Patients w/Heart Failure         Yes - MinMaxScaler   \n",
       "3  Subgroup - Patients w/Heart Failure        Yes - Log Transform   \n",
       "\n",
       "    Encoding Type        R2        MSE       MAE  \n",
       "0  Label Encoding  0.137862  45.465472  3.557802  \n",
       "1  Label Encoding  0.244538  28.799774  3.395329  \n",
       "2  Label Encoding  0.274588  42.647823  5.652492  \n",
       "3  Label Encoding -0.261394  39.072295  3.289621  "
      ]
     },
     "execution_count": 59,
     "metadata": {},
     "output_type": "execute_result"
    }
   ],
   "source": [
    "sample_df_heart_failure = sample_df[(sample_df['APR DRG Description'].str.startswith('Heart')) | (sample_df['APR DRG Code'] == 194)]\n",
    "\n",
    "X = sample_df_heart_failure.loc[:, ~sample_df.columns.isin(['Length of Stay', 'Total Costs', 'Total Charges'])]\n",
    "y = sample_df_heart_failure[['Length of Stay']]\n",
    "\n",
    "X_train_all_features, X_test_all_features, y_train_all_features, y_test_all_features = train_test_split(X, y, test_size = 0.25)\n",
    "\n",
    "X_train_all_features = encode_categorical_variables(X_train_all_features)\n",
    "X_test_all_features = encode_categorical_variables(X_test_all_features)\n",
    "\n",
    "scaler = MinMaxScaler()\n",
    "scaler.fit(y_train_all_features)\n",
    "\n",
    "tt = TransformedTargetRegressor(regressor=LinearRegression(), transformer=MinMaxScaler())\n",
    "tt.fit(X_train_all_features, y_train_all_features)\n",
    "preds = tt.predict(X_test_all_features)\n",
    "score = tt.score(X_test_all_features, y_test_all_features)\n",
    "\n",
    "scores = get_scores(preds, scaler.transform(y_test_all_features))\n",
    "evaluation_df = evaluation_df.append({'Model': 'Linear Regression', 'Features': 'All Features', 'Population': 'Subgroup - Patients w/Heart Failure', 'Target Variable Normalized': 'Yes - MinMaxScaler', 'Encoding Type': 'Label Encoding', 'R2':score, 'MSE':scores[1], 'MAE': scores[2]}, ignore_index=True)\n",
    "evaluation_df.head()\n",
    "\n",
    "\n",
    "tt2 = TransformedTargetRegressor(regressor=LinearRegression(), func=np.log, inverse_func=np.exp)\n",
    "tt2.fit(X_train_all_features, y_train_all_features)\n",
    "preds = tt2.predict(X_test_all_features)\n",
    "score = tt2.score(X_test_all_features, y_test_all_features)\n",
    "\n",
    "scores = get_scores(preds, np.log(y_test_all_features))\n",
    "evaluation_df = evaluation_df.append({'Model': 'Linear Regression', 'Features': 'All Features', 'Population': 'Subgroup - Patients w/Heart Failure', 'Target Variable Normalized': 'Yes - Log Transform', 'Encoding Type': 'Label Encoding', 'R2':score, 'MSE':scores[1], 'MAE': scores[2]}, ignore_index=True)\n",
    "evaluation_df.head()"
   ]
  },
  {
   "cell_type": "markdown",
   "metadata": {},
   "source": [
    "Step 4: Transformation of the target variable reduced the MAE and MSE, but did not improve the R2 score. Next, try different encoding methods such as OneHotEncoder"
   ]
  },
  {
   "cell_type": "code",
   "execution_count": 64,
   "metadata": {},
   "outputs": [
    {
     "name": "stdout",
     "output_type": "stream",
     "text": [
      "Index(['Unnamed: 0', 'year', 'Hospital Service Area', 'Hospital County',\n",
      "       'Operating Certificate Number', 'Permanent Facility Id',\n",
      "       'Facility Name', 'Age Group', 'Zip Code - 3 digits', 'Gender', 'Race',\n",
      "       'Ethnicity', 'Type of Admission', 'Patient Disposition',\n",
      "       'Discharge Year', 'CCSR Diagnosis Code', 'CCSR Diagnosis Description',\n",
      "       'CCSR Procedure Code', 'CCSR Procedure Description', 'APR DRG Code',\n",
      "       'APR DRG Description', 'APR MDC Code', 'APR MDC Description',\n",
      "       'APR Severity of Illness Code', 'APR Severity of Illness Description',\n",
      "       'APR Risk of Mortality', 'APR Medical Surgical Description',\n",
      "       'Payment Typology 1', 'Emergency Department Indicator'],\n",
      "      dtype='object')\n"
     ]
    },
    {
     "name": "stderr",
     "output_type": "stream",
     "text": [
      "C:\\Users\\Urvi\\AppData\\Roaming\\Python\\Python39\\site-packages\\sklearn\\preprocessing\\_function_transformer.py:292: RuntimeWarning: overflow encountered in exp\n",
      "  return func(X, **(kw_args if kw_args else {}))\n",
      "C:\\Users\\Urvi\\AppData\\Roaming\\Python\\Python39\\site-packages\\sklearn\\preprocessing\\_function_transformer.py:292: RuntimeWarning: overflow encountered in exp\n",
      "  return func(X, **(kw_args if kw_args else {}))\n"
     ]
    },
    {
     "ename": "ValueError",
     "evalue": "Input contains infinity or a value too large for dtype('float64').",
     "output_type": "error",
     "traceback": [
      "\u001b[1;31m---------------------------------------------------------------------------\u001b[0m",
      "\u001b[1;31mValueError\u001b[0m                                Traceback (most recent call last)",
      "\u001b[1;32m<ipython-input-64-955894b8fee7>\u001b[0m in \u001b[0;36m<module>\u001b[1;34m\u001b[0m\n\u001b[0;32m     17\u001b[0m \u001b[0mtt2\u001b[0m\u001b[1;33m.\u001b[0m\u001b[0mfit\u001b[0m\u001b[1;33m(\u001b[0m\u001b[0mX_train_all_features\u001b[0m\u001b[1;33m,\u001b[0m \u001b[0my_train_all_features\u001b[0m\u001b[1;33m)\u001b[0m\u001b[1;33m\u001b[0m\u001b[1;33m\u001b[0m\u001b[0m\n\u001b[0;32m     18\u001b[0m \u001b[0mpreds\u001b[0m \u001b[1;33m=\u001b[0m \u001b[0mtt2\u001b[0m\u001b[1;33m.\u001b[0m\u001b[0mpredict\u001b[0m\u001b[1;33m(\u001b[0m\u001b[0mX_test_all_features\u001b[0m\u001b[1;33m)\u001b[0m\u001b[1;33m\u001b[0m\u001b[1;33m\u001b[0m\u001b[0m\n\u001b[1;32m---> 19\u001b[1;33m \u001b[0mscore\u001b[0m \u001b[1;33m=\u001b[0m \u001b[0mtt2\u001b[0m\u001b[1;33m.\u001b[0m\u001b[0mscore\u001b[0m\u001b[1;33m(\u001b[0m\u001b[0mX_test_all_features\u001b[0m\u001b[1;33m,\u001b[0m \u001b[0my_test_all_features\u001b[0m\u001b[1;33m)\u001b[0m\u001b[1;33m\u001b[0m\u001b[1;33m\u001b[0m\u001b[0m\n\u001b[0m\u001b[0;32m     20\u001b[0m \u001b[1;33m\u001b[0m\u001b[0m\n\u001b[0;32m     21\u001b[0m \u001b[0mscores\u001b[0m \u001b[1;33m=\u001b[0m \u001b[0mget_scores\u001b[0m\u001b[1;33m(\u001b[0m\u001b[0mpreds\u001b[0m\u001b[1;33m,\u001b[0m \u001b[0mnp\u001b[0m\u001b[1;33m.\u001b[0m\u001b[0mlog\u001b[0m\u001b[1;33m(\u001b[0m\u001b[0my_test_all_features\u001b[0m\u001b[1;33m)\u001b[0m\u001b[1;33m)\u001b[0m\u001b[1;33m\u001b[0m\u001b[1;33m\u001b[0m\u001b[0m\n",
      "\u001b[1;32m~\\AppData\\Roaming\\Python\\Python39\\site-packages\\sklearn\\base.py\u001b[0m in \u001b[0;36mscore\u001b[1;34m(self, X, y, sample_weight)\u001b[0m\n\u001b[0;32m    719\u001b[0m \u001b[1;33m\u001b[0m\u001b[0m\n\u001b[0;32m    720\u001b[0m         \u001b[0my_pred\u001b[0m \u001b[1;33m=\u001b[0m \u001b[0mself\u001b[0m\u001b[1;33m.\u001b[0m\u001b[0mpredict\u001b[0m\u001b[1;33m(\u001b[0m\u001b[0mX\u001b[0m\u001b[1;33m)\u001b[0m\u001b[1;33m\u001b[0m\u001b[1;33m\u001b[0m\u001b[0m\n\u001b[1;32m--> 721\u001b[1;33m         \u001b[1;32mreturn\u001b[0m \u001b[0mr2_score\u001b[0m\u001b[1;33m(\u001b[0m\u001b[0my\u001b[0m\u001b[1;33m,\u001b[0m \u001b[0my_pred\u001b[0m\u001b[1;33m,\u001b[0m \u001b[0msample_weight\u001b[0m\u001b[1;33m=\u001b[0m\u001b[0msample_weight\u001b[0m\u001b[1;33m)\u001b[0m\u001b[1;33m\u001b[0m\u001b[1;33m\u001b[0m\u001b[0m\n\u001b[0m\u001b[0;32m    722\u001b[0m \u001b[1;33m\u001b[0m\u001b[0m\n\u001b[0;32m    723\u001b[0m     \u001b[1;32mdef\u001b[0m \u001b[0m_more_tags\u001b[0m\u001b[1;33m(\u001b[0m\u001b[0mself\u001b[0m\u001b[1;33m)\u001b[0m\u001b[1;33m:\u001b[0m\u001b[1;33m\u001b[0m\u001b[1;33m\u001b[0m\u001b[0m\n",
      "\u001b[1;32m~\\AppData\\Roaming\\Python\\Python39\\site-packages\\sklearn\\metrics\\_regression.py\u001b[0m in \u001b[0;36mr2_score\u001b[1;34m(y_true, y_pred, sample_weight, multioutput, force_finite)\u001b[0m\n\u001b[0;32m    909\u001b[0m     \u001b[1;33m-\u001b[0m\u001b[0minf\u001b[0m\u001b[1;33m\u001b[0m\u001b[1;33m\u001b[0m\u001b[0m\n\u001b[0;32m    910\u001b[0m     \"\"\"\n\u001b[1;32m--> 911\u001b[1;33m     y_type, y_true, y_pred, multioutput = _check_reg_targets(\n\u001b[0m\u001b[0;32m    912\u001b[0m         \u001b[0my_true\u001b[0m\u001b[1;33m,\u001b[0m \u001b[0my_pred\u001b[0m\u001b[1;33m,\u001b[0m \u001b[0mmultioutput\u001b[0m\u001b[1;33m\u001b[0m\u001b[1;33m\u001b[0m\u001b[0m\n\u001b[0;32m    913\u001b[0m     )\n",
      "\u001b[1;32m~\\AppData\\Roaming\\Python\\Python39\\site-packages\\sklearn\\metrics\\_regression.py\u001b[0m in \u001b[0;36m_check_reg_targets\u001b[1;34m(y_true, y_pred, multioutput, dtype)\u001b[0m\n\u001b[0;32m    100\u001b[0m     \u001b[0mcheck_consistent_length\u001b[0m\u001b[1;33m(\u001b[0m\u001b[0my_true\u001b[0m\u001b[1;33m,\u001b[0m \u001b[0my_pred\u001b[0m\u001b[1;33m)\u001b[0m\u001b[1;33m\u001b[0m\u001b[1;33m\u001b[0m\u001b[0m\n\u001b[0;32m    101\u001b[0m     \u001b[0my_true\u001b[0m \u001b[1;33m=\u001b[0m \u001b[0mcheck_array\u001b[0m\u001b[1;33m(\u001b[0m\u001b[0my_true\u001b[0m\u001b[1;33m,\u001b[0m \u001b[0mensure_2d\u001b[0m\u001b[1;33m=\u001b[0m\u001b[1;32mFalse\u001b[0m\u001b[1;33m,\u001b[0m \u001b[0mdtype\u001b[0m\u001b[1;33m=\u001b[0m\u001b[0mdtype\u001b[0m\u001b[1;33m)\u001b[0m\u001b[1;33m\u001b[0m\u001b[1;33m\u001b[0m\u001b[0m\n\u001b[1;32m--> 102\u001b[1;33m     \u001b[0my_pred\u001b[0m \u001b[1;33m=\u001b[0m \u001b[0mcheck_array\u001b[0m\u001b[1;33m(\u001b[0m\u001b[0my_pred\u001b[0m\u001b[1;33m,\u001b[0m \u001b[0mensure_2d\u001b[0m\u001b[1;33m=\u001b[0m\u001b[1;32mFalse\u001b[0m\u001b[1;33m,\u001b[0m \u001b[0mdtype\u001b[0m\u001b[1;33m=\u001b[0m\u001b[0mdtype\u001b[0m\u001b[1;33m)\u001b[0m\u001b[1;33m\u001b[0m\u001b[1;33m\u001b[0m\u001b[0m\n\u001b[0m\u001b[0;32m    103\u001b[0m \u001b[1;33m\u001b[0m\u001b[0m\n\u001b[0;32m    104\u001b[0m     \u001b[1;32mif\u001b[0m \u001b[0my_true\u001b[0m\u001b[1;33m.\u001b[0m\u001b[0mndim\u001b[0m \u001b[1;33m==\u001b[0m \u001b[1;36m1\u001b[0m\u001b[1;33m:\u001b[0m\u001b[1;33m\u001b[0m\u001b[1;33m\u001b[0m\u001b[0m\n",
      "\u001b[1;32m~\\AppData\\Roaming\\Python\\Python39\\site-packages\\sklearn\\utils\\validation.py\u001b[0m in \u001b[0;36mcheck_array\u001b[1;34m(array, accept_sparse, accept_large_sparse, dtype, order, copy, force_all_finite, ensure_2d, allow_nd, ensure_min_samples, ensure_min_features, estimator, input_name)\u001b[0m\n\u001b[0;32m    897\u001b[0m \u001b[1;33m\u001b[0m\u001b[0m\n\u001b[0;32m    898\u001b[0m         \u001b[1;32mif\u001b[0m \u001b[0mforce_all_finite\u001b[0m\u001b[1;33m:\u001b[0m\u001b[1;33m\u001b[0m\u001b[1;33m\u001b[0m\u001b[0m\n\u001b[1;32m--> 899\u001b[1;33m             _assert_all_finite(\n\u001b[0m\u001b[0;32m    900\u001b[0m                 \u001b[0marray\u001b[0m\u001b[1;33m,\u001b[0m\u001b[1;33m\u001b[0m\u001b[1;33m\u001b[0m\u001b[0m\n\u001b[0;32m    901\u001b[0m                 \u001b[0minput_name\u001b[0m\u001b[1;33m=\u001b[0m\u001b[0minput_name\u001b[0m\u001b[1;33m,\u001b[0m\u001b[1;33m\u001b[0m\u001b[1;33m\u001b[0m\u001b[0m\n",
      "\u001b[1;32m~\\AppData\\Roaming\\Python\\Python39\\site-packages\\sklearn\\utils\\validation.py\u001b[0m in \u001b[0;36m_assert_all_finite\u001b[1;34m(X, allow_nan, msg_dtype, estimator_name, input_name)\u001b[0m\n\u001b[0;32m    144\u001b[0m                     \u001b[1;34m\"#estimators-that-handle-nan-values\"\u001b[0m\u001b[1;33m\u001b[0m\u001b[1;33m\u001b[0m\u001b[0m\n\u001b[0;32m    145\u001b[0m                 )\n\u001b[1;32m--> 146\u001b[1;33m             \u001b[1;32mraise\u001b[0m \u001b[0mValueError\u001b[0m\u001b[1;33m(\u001b[0m\u001b[0mmsg_err\u001b[0m\u001b[1;33m)\u001b[0m\u001b[1;33m\u001b[0m\u001b[1;33m\u001b[0m\u001b[0m\n\u001b[0m\u001b[0;32m    147\u001b[0m \u001b[1;33m\u001b[0m\u001b[0m\n\u001b[0;32m    148\u001b[0m     \u001b[1;31m# for object dtype data, we only check for NaNs (GH-13254)\u001b[0m\u001b[1;33m\u001b[0m\u001b[1;33m\u001b[0m\u001b[1;33m\u001b[0m\u001b[0m\n",
      "\u001b[1;31mValueError\u001b[0m: Input contains infinity or a value too large for dtype('float64')."
     ]
    }
   ],
   "source": [
    "X = sample_df_heart_failure.loc[:, ~sample_df.columns.isin(['Length of Stay', 'Total Costs', 'Total Charges'])]\n",
    "y = sample_df_heart_failure[['Length of Stay']]\n",
    "\n",
    "curr_columns = X.columns\n",
    "print(curr_columns)\n",
    "\n",
    "X = pd.get_dummies(X)\n",
    "\n",
    "X = X.loc[:, ~X.columns.isin(curr_columns)]\n",
    "\n",
    "X_train_all_features, X_test_all_features, y_train_all_features, y_test_all_features = train_test_split(X, y, test_size = 0.25)\n",
    "print(np.where(np.isinf(X_test_all_features)))\n",
    "print(np.where(np.isinf(y_test_all_features)))\n",
    "#X_train_all_features = encode_categorical_variables(X_train_all_features)\n",
    "#X_test_all_features = encode_categorical_variables(X_test_all_features)\n",
    "\n",
    "tt2 = TransformedTargetRegressor(regressor=LinearRegression(), func=np.log, inverse_func=np.exp)\n",
    "tt2.fit(X_train_all_features, y_train_all_features)\n",
    "preds = tt2.predict(X_test_all_features)\n",
    "score = tt2.score(X_test_all_features, y_test_all_features)\n",
    "\n",
    "scores = get_scores(preds, np.log(y_test_all_features))\n",
    "\n",
    "scores = get_scores(preds, y_test_all_features)\n",
    "evaluation_df = evaluation_df.append({'Model': 'Linear Regression', 'Features': 'Manual Selection', 'Population': 'Subgroup - Patients w/Heart Failure', 'Target Variable Normalized': 'MinMaxScaler()', 'Encoding Type': 'OneHotEncoding', 'R2':scores[0], 'MSE':scores[1], 'MAE': scores[2]}, ignore_index=True)\n",
    "evaluation_df.head(10)\n"
   ]
  }
 ],
 "metadata": {
  "kernelspec": {
   "display_name": "Python 3.9.2 64-bit",
   "language": "python",
   "name": "python3"
  },
  "language_info": {
   "codemirror_mode": {
    "name": "ipython",
    "version": 3
   },
   "file_extension": ".py",
   "mimetype": "text/x-python",
   "name": "python",
   "nbconvert_exporter": "python",
   "pygments_lexer": "ipython3",
   "version": "3.9.2"
  },
  "orig_nbformat": 4,
  "vscode": {
   "interpreter": {
    "hash": "eabca979b0553fa6d87e9a00c352604d3b703d4afc9641643dd42376492b80f6"
   }
  }
 },
 "nbformat": 4,
 "nbformat_minor": 2
}
