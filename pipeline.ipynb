{
 "cells": [
  {
   "attachments": {},
   "cell_type": "markdown",
   "metadata": {},
   "source": [
    "This notebook demonstrates our data pipeline. The steps are as follows:<br />\n",
    "1.) Since our data is static, it checks if the cleaned files are present, and if not, it creates the cleaned files<br />\n",
    "2.) Checks if our models are present, if not creates the models<br />\n",
    "3.)Launches the form that uses the models and cleaned data\n"
   ]
  },
  {
   "cell_type": "code",
   "execution_count": 1,
   "metadata": {},
   "outputs": [],
   "source": [
    "from os.path import exists\n",
    "\n",
    "all_patient_file_exists = exists('../data/processed/Hospital_Inpatient_Discharges_17_18_cleaned.csv')\n",
    "heart_failure_file_exists = exists('../data/processed/HID_cleaned_HeartFailure.csv')\n",
    "copd_file_exists = exists('../data/processed/HID_cleaned_ChronicObstructivePulmonaryDisease.csv')\n",
    "kidney_file_exists = exists('../data/processed/HID_cleaned_Kidney&UrinaryTractInfections.csv')\n",
    "knee_rep_file_exists = exists('../data/processed/HID_cleaned_KneeJointReplacement.csv')\n",
    "schizophrenia_file_exists = exists('../data/processed/HID_cleaned_Schizophrenia.csv')"
   ]
  },
  {
   "cell_type": "code",
   "execution_count": 7,
   "metadata": {},
   "outputs": [
    {
     "name": "stdout",
     "output_type": "stream",
     "text": [
      "18 Dataset\n",
      "['Hospital Service Area', 'Hospital County', 'Operating Certificate Number', 'Permanent Facility Id', 'Facility Name', 'Age Group', 'Zip Code - 3 digits', 'Gender', 'Race', 'Ethnicity', 'Length of Stay', 'Type of Admission', 'Patient Disposition', 'Discharge Year', 'CCSR Diagnosis Code', 'CCSR Diagnosis Description', 'CCSR Procedure Code', 'CCSR Procedure Description', 'APR DRG Code', 'APR DRG Description', 'APR MDC Code', 'APR MDC Description', 'APR Severity of Illness Code', 'APR Severity of Illness Description', 'APR Risk of Mortality', 'APR Medical Surgical Description', 'Payment Typology 1', 'Payment Typology 2', 'Payment Typology 3', 'Birth Weight', 'Emergency Department Indicator', 'Total Charges', 'Total Costs'] \n",
      "\n",
      "17 Dataset\n",
      "['Hospital Service Area', 'Hospital County', 'Operating Certificate Number', 'Permanent Facility Id', 'Facility Name', 'Age Group', 'Zip Code - 3 digits', 'Gender', 'Race', 'Ethnicity', 'Length of Stay', 'Type of Admission', 'Patient Disposition', 'Discharge Year', 'CCS Diagnosis Code', 'CCS Diagnosis Description', 'CCS Procedure Code', 'CCS Procedure Description', 'APR DRG Code', 'APR DRG Description', 'APR MDC Code', 'APR MDC Description', 'APR Severity of Illness Code', 'APR Severity of Illness Description', 'APR Risk of Mortality', 'APR Medical Surgical Description', 'Payment Typology 1', 'Payment Typology 2', 'Payment Typology 3', 'Birth Weight', 'Abortion Edit Indicator', 'Emergency Department Indicator', 'Total Charges', 'Total Costs'] \n",
      "\n",
      "Column Differences:\n",
      "Index(['Abortion Edit Indicator', 'CCS Diagnosis Code',\n",
      "       'CCS Diagnosis Description', 'CCS Procedure Code',\n",
      "       'CCS Procedure Description', 'CCSR Diagnosis Code',\n",
      "       'CCSR Diagnosis Description', 'CCSR Procedure Code',\n",
      "       'CCSR Procedure Description'],\n",
      "      dtype='object') \n",
      "\n",
      "Column Differences Post-Change:\n",
      "Index([], dtype='object') \n",
      "\n",
      "Concatenated dataset shape:\n",
      "(4696376, 34) \n",
      "\n",
      "Data Extracted\n"
     ]
    },
    {
     "name": "stderr",
     "output_type": "stream",
     "text": [
      "sys:1: DtypeWarning: Columns (29) have mixed types.Specify dtype option on import or set low_memory=False.\n",
      "c:\\Users\\Urvi\\Documents\\Capstone Project New\\medficient\\src\\data\\data_ingestion.py:19: FutureWarning: Index.__xor__ operating as a set operation is deprecated, in the future this will be a logical operation matching Series.__xor__.  Use index.symmetric_difference(other) instead\n",
      "  print(df_18.columns ^ df_17.columns, '\\n')\n",
      "c:\\Users\\Urvi\\Documents\\Capstone Project New\\medficient\\src\\data\\data_ingestion.py:37: FutureWarning: Index.__xor__ operating as a set operation is deprecated, in the future this will be a logical operation matching Series.__xor__.  Use index.symmetric_difference(other) instead\n",
      "  print(df_18.columns ^ df_17.columns, '\\n')\n"
     ]
    },
    {
     "name": "stdout",
     "output_type": "stream",
     "text": [
      "Overall Shape:\n",
      "(4696376, 34) \n",
      "\n",
      "Records per year:\n",
      "2018    2352807\n",
      "2017    2343569\n",
      "Name: Discharge Year, dtype: int64 \n",
      "\n",
      "Columns: \n",
      "Index(['Hospital Service Area', 'Hospital County',\n",
      "       'Operating Certificate Number', 'Permanent Facility Id',\n",
      "       'Facility Name', 'Age Group', 'Zip Code - 3 digits', 'Gender', 'Race',\n",
      "       'Ethnicity', 'Length of Stay', 'Type of Admission',\n",
      "       'Patient Disposition', 'Discharge Year', 'CCSR Diagnosis Code',\n",
      "       'CCSR Diagnosis Description', 'CCSR Procedure Code',\n",
      "       'CCSR Procedure Description', 'APR DRG Code', 'APR DRG Description',\n",
      "       'APR MDC Code', 'APR MDC Description', 'APR Severity of Illness Code',\n",
      "       'APR Severity of Illness Description', 'APR Risk of Mortality',\n",
      "       'APR Medical Surgical Description', 'Payment Typology 1',\n",
      "       'Payment Typology 2', 'Payment Typology 3', 'Birth Weight',\n",
      "       'Abortion Edit Indicator', 'Emergency Department Indicator',\n",
      "       'Total Charges', 'Total Costs'],\n",
      "      dtype='object') \n",
      "\n",
      "Data Types: \n",
      "Hospital Service Area                   object\n",
      "Hospital County                         object\n",
      "Operating Certificate Number           float64\n",
      "Permanent Facility Id                  float64\n",
      "Facility Name                           object\n",
      "Age Group                               object\n",
      "Zip Code - 3 digits                     object\n",
      "Gender                                  object\n",
      "Race                                    object\n",
      "Ethnicity                               object\n",
      "Length of Stay                          object\n",
      "Type of Admission                       object\n",
      "Patient Disposition                     object\n",
      "Discharge Year                           int64\n",
      "CCSR Diagnosis Code                     object\n",
      "CCSR Diagnosis Description              object\n",
      "CCSR Procedure Code                     object\n",
      "CCSR Procedure Description              object\n",
      "APR DRG Code                           float64\n",
      "APR DRG Description                     object\n",
      "APR MDC Code                           float64\n",
      "APR MDC Description                     object\n",
      "APR Severity of Illness Code           float64\n",
      "APR Severity of Illness Description     object\n",
      "APR Risk of Mortality                   object\n",
      "APR Medical Surgical Description        object\n",
      "Payment Typology 1                      object\n",
      "Payment Typology 2                      object\n"
     ]
    },
    {
     "name": "stderr",
     "output_type": "stream",
     "text": [
      "sys:1: DtypeWarning: Columns (14,16,29,30,31) have mixed types.Specify dtype option on import or set low_memory=False.\n"
     ]
    },
    {
     "name": "stdout",
     "output_type": "stream",
     "text": [
      "Payment Typology 3                      object\n",
      "Birth Weight                            object\n",
      "Abortion Edit Indicator                 object\n",
      "Emergency Department Indicator          object\n",
      "Total Charges                          float64\n",
      "Total Costs                            float64\n",
      "dtype: object \n",
      "\n",
      "Data Types: \n",
      "Hospital Service Area                   object\n",
      "Hospital County                         object\n",
      "Operating Certificate Number           float64\n",
      "Permanent Facility Id                  float64\n",
      "Facility Name                           object\n",
      "Age Group                               object\n",
      "Zip Code - 3 digits                     object\n",
      "Gender                                  object\n",
      "Race                                    object\n",
      "Ethnicity                               object\n",
      "Length of Stay                          object\n",
      "Type of Admission                       object\n",
      "Patient Disposition                     object\n",
      "Discharge Year                           int64\n",
      "CCSR Diagnosis Code                     object\n",
      "CCSR Diagnosis Description              object\n",
      "CCSR Procedure Code                     object\n",
      "CCSR Procedure Description              object\n",
      "APR DRG Code                           float64\n",
      "APR DRG Description                     object\n",
      "APR MDC Code                           float64\n",
      "APR MDC Description                     object\n",
      "APR Severity of Illness Code           float64\n",
      "APR Severity of Illness Description     object\n",
      "APR Risk of Mortality                   object\n",
      "APR Medical Surgical Description        object\n",
      "Payment Typology 1                      object\n",
      "Emergency Department Indicator          object\n",
      "Total Charges                          float64\n",
      "Total Costs                            float64\n",
      "dtype: object \n",
      "\n",
      "Data Extracted\n"
     ]
    }
   ],
   "source": [
    "if all_patient_file_exists and heart_failure_file_exists and copd_file_exists and kidney_file_exists and knee_rep_file_exists and schizophrenia_file_exists:\n",
    "    print('All files exist')\n",
    "else:\n",
    "    ! python src/data/data_ingestion.py\n",
    "    ! python src/data/data_cleaning.py"
   ]
  },
  {
   "cell_type": "code",
   "execution_count": 2,
   "metadata": {},
   "outputs": [],
   "source": [
    "#Check if models exist\n",
    "los_all_pop_model_exists = exists('../models/all_pop_rf_models.pkl')\n",
    "los_copd_model_exists = exists('../models/copd_patient_rf_models.pkl')\n",
    "los_heart_model_exists = exists('../models/heart_patient_rf_models.pkl')\n",
    "los_kidney_model_exists = exists('../models/kidney_patient_rf_models.pkl')\n",
    "los_knee_model_exists = exists('../models/knee_rep_rf_models.pkl')\n",
    "los_schizophrenia_model_exists = exists('../models/schizophrenia_rf_models.pkl')\n",
    "\n",
    "\n",
    "cost_all_pop_model_exists = exists('../models/all_pop_cost_model.pkl')\n",
    "cost_copd_model_exists = exists('../models/copd_patient_cost_model.pkl')\n",
    "cost_heart_model_exists = exists('../models/heart_patient_cost_model.pkl')\n",
    "cost_kidney_model_exists = exists('../models/kidney_patient_cost_model.pkl')\n",
    "cost_knee_model_exists = exists('../models/knee_rep_patient_cost_model.pkl')\n",
    "cost_schizophrenia_model_exists = exists('../models/schizophrenia_patient_cost_model.pkl')"
   ]
  },
  {
   "cell_type": "code",
   "execution_count": 3,
   "metadata": {},
   "outputs": [
    {
     "name": "stdout",
     "output_type": "stream",
     "text": [
      "Training knee rep model\n",
      "302.0\n",
      "302.0\n",
      "Training model\n"
     ]
    },
    {
     "name": "stderr",
     "output_type": "stream",
     "text": [
      "c:\\Users\\Urvi\\Documents\\Capstone Project New\\medficient\\src\\models\\train_length_of_stay_model.py:74: DtypeWarning: Columns (9,11) have mixed types.Specify dtype option on import or set low_memory=False.\n",
      "  train_knee_rep_patient_model(best_params[302.0])\n"
     ]
    }
   ],
   "source": [
    "if los_all_pop_model_exists and los_copd_model_exists and los_heart_model_exists and los_kidney_model_exists and los_knee_model_exists and los_schizophrenia_model_exists:\n",
    "    print('All los models already exist')\n",
    "else:\n",
    "    ! python src/models/train_length_of_stay_model.py"
   ]
  },
  {
   "cell_type": "code",
   "execution_count": 3,
   "metadata": {},
   "outputs": [
    {
     "name": "stdout",
     "output_type": "stream",
     "text": [
      "Overall Shape:\n",
      "(4696376, 34) \n",
      "\n",
      "Records per year:\n",
      "2018    2352807"
     ]
    },
    {
     "name": "stderr",
     "output_type": "stream",
     "text": [
      "sys:1: DtypeWarning: Columns (14,16,29,30,31) have mixed types.Specify dtype option on import or set low_memory=False.\n",
      "c:\\Users\\Urvi\\Documents\\Capstone Project New\\medficient\\src\\models\\train_cost_model.py:86: DtypeWarning: Columns (9,11) have mixed types.Specify dtype option on import or set low_memory=False.\n",
      "  train_knee_rep_patient_model(best_params[302.0])\n"
     ]
    },
    {
     "name": "stdout",
     "output_type": "stream",
     "text": [
      "\n",
      "2017    2343569\n",
      "Name: Discharge Year, dtype: int64 \n",
      "\n",
      "Columns: \n",
      "Index(['Hospital Service Area', 'Hospital County',\n",
      "       'Operating Certificate Number', 'Permanent Facility Id',\n",
      "       'Facility Name', 'Age Group', 'Zip Code - 3 digits', 'Gender', 'Race',\n",
      "       'Ethnicity', 'Length of Stay', 'Type of Admission',\n",
      "       'Patient Disposition', 'Discharge Year', 'CCSR Diagnosis Code',\n",
      "       'CCSR Diagnosis Description', 'CCSR Procedure Code',\n",
      "       'CCSR Procedure Description', 'APR DRG Code', 'APR DRG Description',\n",
      "       'APR MDC Code', 'APR MDC Description', 'APR Severity of Illness Code',\n",
      "       'APR Severity of Illness Description', 'APR Risk of Mortality',\n",
      "       'APR Medical Surgical Description', 'Payment Typology 1',\n",
      "       'Payment Typology 2', 'Payment Typology 3', 'Birth Weight',\n",
      "       'Abortion Edit Indicator', 'Emergency Department Indicator',\n",
      "       'Total Charges', 'Total Costs'],\n",
      "      dtype='object') \n",
      "\n",
      "Data Types: \n",
      "Hospital Service Area                   object\n",
      "Hospital County                         object\n",
      "Operating Certificate Number           float64\n",
      "Permanent Facility Id                  float64\n",
      "Facility Name                           object\n",
      "Age Group                               object\n",
      "Zip Code - 3 digits                     object\n",
      "Gender                                  object\n",
      "Race                                    object\n",
      "Ethnicity                               object\n",
      "Length of Stay                          object\n",
      "Type of Admission                       object\n",
      "Patient Disposition                     object\n",
      "Discharge Year                           int64\n",
      "CCSR Diagnosis Code                     object\n",
      "CCSR Diagnosis Description              object\n",
      "CCSR Procedure Code                     object\n",
      "CCSR Procedure Description              object\n",
      "APR DRG Code                           float64\n",
      "APR DRG Description                     object\n",
      "APR MDC Code                           float64\n",
      "APR MDC Description                     object\n",
      "APR Severity of Illness Code           float64\n",
      "APR Severity of Illness Description     object\n",
      "APR Risk of Mortality                   object\n",
      "APR Medical Surgical Description        object\n",
      "Payment Typology 1                      object\n",
      "Payment Typology 2                      object\n",
      "Payment Typology 3                      object\n",
      "Birth Weight                            object\n",
      "Abortion Edit Indicator                 object\n",
      "Emergency Department Indicator          object\n",
      "Total Charges                          float64\n",
      "Total Costs                            float64\n",
      "dtype: object \n",
      "\n",
      "Data Types: \n",
      "Hospital Service Area                   object\n",
      "Hospital County                         object\n",
      "Operating Certificate Number           float64\n",
      "Permanent Facility Id                  float64\n",
      "Facility Name                           object\n",
      "Age Group                               object\n",
      "Zip Code - 3 digits                     object\n",
      "Gender                                  object\n",
      "Race                                    object\n",
      "Ethnicity                               object\n",
      "Length of Stay                          object\n",
      "Type of Admission                       object\n",
      "Patient Disposition                     object\n",
      "Discharge Year                           int64\n",
      "CCSR Diagnosis Code                     object\n",
      "CCSR Diagnosis Description              object\n",
      "CCSR Procedure Code                     object\n",
      "CCSR Procedure Description              object\n",
      "APR DRG Code                           float64\n",
      "APR DRG Description                     object\n",
      "APR MDC Code                           float64\n",
      "APR MDC Description                     object\n",
      "APR Severity of Illness Code           float64\n",
      "APR Severity of Illness Description     object\n",
      "APR Risk of Mortality                   object\n",
      "APR Medical Surgical Description        object\n",
      "Payment Typology 1                      object\n",
      "Emergency Department Indicator          object\n",
      "Total Charges                          float64\n",
      "Total Costs                            float64\n",
      "dtype: object \n",
      "\n",
      "Data Extracted\n",
      "302.0\n",
      "302.0\n",
      "Training model\n"
     ]
    }
   ],
   "source": [
    "if cost_all_pop_model_exists and cost_copd_model_exists and cost_heart_model_exists and cost_kidney_model_exists and cost_knee_model_exists and cost_schizophrenia_model_exists:\n",
    "    print('All los models already exist')\n",
    "else:\n",
    "    ! python src/models/train_cost_model.py"
   ]
  },
  {
   "cell_type": "code",
   "execution_count": 4,
   "metadata": {},
   "outputs": [],
   "source": [
    "! python main.py"
   ]
  }
 ],
 "metadata": {
  "kernelspec": {
   "display_name": "Python 3",
   "language": "python",
   "name": "python3"
  },
  "language_info": {
   "codemirror_mode": {
    "name": "ipython",
    "version": 3
   },
   "file_extension": ".py",
   "mimetype": "text/x-python",
   "name": "python",
   "nbconvert_exporter": "python",
   "pygments_lexer": "ipython3",
   "version": "3.9.2"
  },
  "orig_nbformat": 4,
  "vscode": {
   "interpreter": {
    "hash": "eabca979b0553fa6d87e9a00c352604d3b703d4afc9641643dd42376492b80f6"
   }
  }
 },
 "nbformat": 4,
 "nbformat_minor": 2
}
