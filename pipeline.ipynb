{
 "cells": [
  {
   "attachments": {},
   "cell_type": "markdown",
   "metadata": {},
   "source": [
    "This notebook demonstrates our data pipeline. The steps are as follows:<br />\n",
    "1.) Since our data is static, it checks if the cleaned files are present, and if not, it creates the cleaned files<br />\n",
    "2.) Checks if our models are present, if not creates the models<br />\n",
    "3.)Launches the form that uses the models and cleaned data\n"
   ]
  },
  {
   "cell_type": "code",
   "execution_count": 79,
   "metadata": {},
   "outputs": [],
   "source": [
    "from os.path import exists\n",
    "\n",
    "all_patient_file_exists = exists('data/processed/Hospital_Inpatient_Discharges_17_18_cleaned.csv')\n",
    "heart_failure_file_exists = exists('data/processed/HID_cleaned_HeartFailure.csv')\n",
    "copd_file_exists = exists('data/processed/HID_cleaned_ChronicObstructivePulmonaryDisease.csv')\n",
    "kidney_file_exists = exists('data/processed/HID_cleaned_Kidney&UrinaryTractInfections.csv')\n",
    "knee_rep_file_exists = exists('data/processed/HID_cleaned_KneeJointReplacement.csv')\n",
    "schizophrenia_file_exists = exists('data/processed/HID_cleaned_Schizophrenia.csv')"
   ]
  },
  {
   "cell_type": "code",
   "execution_count": 80,
   "metadata": {},
   "outputs": [
    {
     "name": "stdout",
     "output_type": "stream",
     "text": [
      "All files exist\n"
     ]
    }
   ],
   "source": [
    "if all_patient_file_exists and heart_failure_file_exists and copd_file_exists and kidney_file_exists and knee_rep_file_exists and schizophrenia_file_exists:\n",
    "    print('All files exist')\n",
    "else:\n",
    "    ! python src/data/data_ingestion.py\n",
    "    ! python src/data/data_cleaning.py"
   ]
  },
  {
   "cell_type": "code",
   "execution_count": 81,
   "metadata": {},
   "outputs": [],
   "source": [
    "#Check if models exist\n",
    "los_all_pop_model_exists = exists('models/all_pop_rf_model.pkl')\n",
    "los_copd_model_exists = exists('models/copd_patient_rf_model.pkl')\n",
    "los_heart_model_exists = exists('models/heart_patient_rf_model.pkl')\n",
    "los_kidney_model_exists = exists('models/kidney_patient_rf_model.pkl')\n",
    "los_knee_model_exists = exists('models/knee_rep_patient_rf_model.pkl')\n",
    "los_schizophrenia_model_exists = exists('models/schizophrenia_rf_model.pkl')\n",
    "\n",
    "\n",
    "cost_all_pop_model_exists = exists('models/all_pop_cost_model.pkl')\n",
    "cost_copd_model_exists = exists('models/copd_patient_cost_model.pkl')\n",
    "cost_heart_model_exists = exists('models/heart_patient_cost_model.pkl')\n",
    "cost_kidney_model_exists = exists('models/kidney_patient_cost_model.pkl')\n",
    "cost_knee_model_exists = exists('models/knee_rep_patient_cost_model.pkl')\n",
    "cost_schizophrenia_model_exists = exists('models/schizophrenia_patient_cost_model.pkl')"
   ]
  },
  {
   "cell_type": "code",
   "execution_count": 82,
   "metadata": {},
   "outputs": [
    {
     "name": "stdout",
     "output_type": "stream",
     "text": [
      "All los models already exist\n"
     ]
    }
   ],
   "source": [
    "#Uncomment this if you want to run all 6 models\n",
    "'''if los_all_pop_model_exists and los_copd_model_exists and los_heart_model_exists and los_kidney_model_exists and los_knee_model_exists and los_schizophrenia_model_exists:\n",
    "    print('All los models already exist')\n",
    "else:\n",
    "    ! python src/models/train_length_of_stay_model.py'''\n",
    "\n",
    "#Comment out if you want to run all 6 models\n",
    "if los_knee_model_exists:\n",
    "    print('All los models already exist')\n",
    "else:\n",
    "    ! python src/models/train_length_of_stay_model.py"
   ]
  },
  {
   "cell_type": "code",
   "execution_count": 83,
   "metadata": {},
   "outputs": [
    {
     "name": "stdout",
     "output_type": "stream",
     "text": [
      "All cost models already exist\n"
     ]
    }
   ],
   "source": [
    "#Uncomment this if you want to run all 6 models\n",
    "'''if cost_all_pop_model_exists and cost_copd_model_exists and cost_heart_model_exists and cost_kidney_model_exists and cost_knee_model_exists and cost_schizophrenia_model_exists:\n",
    "    print('All cost models already exist')\n",
    "else:\n",
    "    ! python src/models/train_cost_model.py'''\n",
    "\n",
    "#Comment out if you want to run all 6 models\n",
    "if cost_knee_model_exists:\n",
    "    print('All cost models already exist')\n",
    "else:\n",
    "    ! python src/models/train_cost_model.py"
   ]
  },
  {
   "cell_type": "code",
   "execution_count": 84,
   "metadata": {},
   "outputs": [],
   "source": [
    "! python form.py"
   ]
  }
 ],
 "metadata": {
  "kernelspec": {
   "display_name": "Python 3",
   "language": "python",
   "name": "python3"
  },
  "language_info": {
   "codemirror_mode": {
    "name": "ipython",
    "version": 3
   },
   "file_extension": ".py",
   "mimetype": "text/x-python",
   "name": "python",
   "nbconvert_exporter": "python",
   "pygments_lexer": "ipython3",
   "version": "3.9.2"
  },
  "orig_nbformat": 4,
  "vscode": {
   "interpreter": {
    "hash": "eabca979b0553fa6d87e9a00c352604d3b703d4afc9641643dd42376492b80f6"
   }
  }
 },
 "nbformat": 4,
 "nbformat_minor": 2
}
